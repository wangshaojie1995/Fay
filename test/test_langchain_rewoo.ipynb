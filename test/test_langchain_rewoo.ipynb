{
 "cells": [
  {
   "cell_type": "code",
   "execution_count": null,
   "metadata": {},
   "outputs": [],
   "source": [
    "1、安装依赖。"
   ]
  },
  {
   "cell_type": "code",
   "execution_count": 1,
   "metadata": {},
   "outputs": [
    {
     "name": "stdout",
     "output_type": "stream",
     "text": [
      "Requirement already satisfied: langchain in d:\\anaconda3\\envs\\fay312-2\\lib\\site-packages (0.3.7)\n",
      "Requirement already satisfied: langchain-openai in d:\\anaconda3\\envs\\fay312-2\\lib\\site-packages (0.2.6)\n",
      "Collecting langchain-openai\n",
      "  Downloading langchain_openai-0.2.8-py3-none-any.whl.metadata (2.6 kB)\n",
      "Requirement already satisfied: langgraph in d:\\anaconda3\\envs\\fay312-2\\lib\\site-packages (0.2.45)\n",
      "Collecting langgraph\n",
      "  Downloading langgraph-0.2.50-py3-none-any.whl.metadata (15 kB)\n",
      "Requirement already satisfied: langsmith in d:\\anaconda3\\envs\\fay312-2\\lib\\site-packages (0.1.142)\n",
      "Collecting langsmith\n",
      "  Downloading langsmith-0.1.143-py3-none-any.whl.metadata (13 kB)\n",
      "Requirement already satisfied: PyYAML>=5.3 in d:\\anaconda3\\envs\\fay312-2\\lib\\site-packages (from langchain) (6.0.2)\n",
      "Requirement already satisfied: SQLAlchemy<3,>=1.4 in d:\\anaconda3\\envs\\fay312-2\\lib\\site-packages (from langchain) (2.0.35)\n",
      "Requirement already satisfied: aiohttp<4.0.0,>=3.8.3 in d:\\anaconda3\\envs\\fay312-2\\lib\\site-packages (from langchain) (3.10.10)\n",
      "Requirement already satisfied: langchain-core<0.4.0,>=0.3.15 in d:\\anaconda3\\envs\\fay312-2\\lib\\site-packages (from langchain) (0.3.15)\n",
      "Requirement already satisfied: langchain-text-splitters<0.4.0,>=0.3.0 in d:\\anaconda3\\envs\\fay312-2\\lib\\site-packages (from langchain) (0.3.2)\n",
      "Requirement already satisfied: numpy<2.0.0,>=1.26.0 in d:\\anaconda3\\envs\\fay312-2\\lib\\site-packages (from langchain) (1.26.4)\n",
      "Requirement already satisfied: pydantic<3.0.0,>=2.7.4 in d:\\anaconda3\\envs\\fay312-2\\lib\\site-packages (from langchain) (2.9.2)\n",
      "Requirement already satisfied: requests<3,>=2 in d:\\anaconda3\\envs\\fay312-2\\lib\\site-packages (from langchain) (2.32.3)\n",
      "Requirement already satisfied: tenacity!=8.4.0,<10,>=8.1.0 in d:\\anaconda3\\envs\\fay312-2\\lib\\site-packages (from langchain) (8.2.3)\n",
      "Collecting langchain-core<0.4.0,>=0.3.15 (from langchain)\n",
      "  Downloading langchain_core-0.3.19-py3-none-any.whl.metadata (6.3 kB)\n",
      "Requirement already satisfied: openai<2.0.0,>=1.54.0 in d:\\anaconda3\\envs\\fay312-2\\lib\\site-packages (from langchain-openai) (1.54.3)\n",
      "Requirement already satisfied: tiktoken<1,>=0.7 in d:\\anaconda3\\envs\\fay312-2\\lib\\site-packages (from langchain-openai) (0.8.0)\n",
      "Collecting langgraph-checkpoint<3.0.0,>=2.0.4 (from langgraph)\n",
      "  Downloading langgraph_checkpoint-2.0.4-py3-none-any.whl.metadata (4.6 kB)\n",
      "Requirement already satisfied: langgraph-sdk<0.2.0,>=0.1.32 in d:\\anaconda3\\envs\\fay312-2\\lib\\site-packages (from langgraph) (0.1.35)\n",
      "Requirement already satisfied: httpx<1,>=0.23.0 in d:\\anaconda3\\envs\\fay312-2\\lib\\site-packages (from langsmith) (0.27.2)\n",
      "Requirement already satisfied: orjson<4.0.0,>=3.9.14 in d:\\anaconda3\\envs\\fay312-2\\lib\\site-packages (from langsmith) (3.10.11)\n",
      "Requirement already satisfied: requests-toolbelt<2.0.0,>=1.0.0 in d:\\anaconda3\\envs\\fay312-2\\lib\\site-packages (from langsmith) (1.0.0)\n",
      "Requirement already satisfied: aiohappyeyeballs>=2.3.0 in d:\\anaconda3\\envs\\fay312-2\\lib\\site-packages (from aiohttp<4.0.0,>=3.8.3->langchain) (2.4.3)\n",
      "Requirement already satisfied: aiosignal>=1.1.2 in d:\\anaconda3\\envs\\fay312-2\\lib\\site-packages (from aiohttp<4.0.0,>=3.8.3->langchain) (1.3.1)\n",
      "Requirement already satisfied: attrs>=17.3.0 in d:\\anaconda3\\envs\\fay312-2\\lib\\site-packages (from aiohttp<4.0.0,>=3.8.3->langchain) (24.2.0)\n",
      "Requirement already satisfied: frozenlist>=1.1.1 in d:\\anaconda3\\envs\\fay312-2\\lib\\site-packages (from aiohttp<4.0.0,>=3.8.3->langchain) (1.5.0)\n",
      "Requirement already satisfied: multidict<7.0,>=4.5 in d:\\anaconda3\\envs\\fay312-2\\lib\\site-packages (from aiohttp<4.0.0,>=3.8.3->langchain) (6.1.0)\n",
      "Requirement already satisfied: yarl<2.0,>=1.12.0 in d:\\anaconda3\\envs\\fay312-2\\lib\\site-packages (from aiohttp<4.0.0,>=3.8.3->langchain) (1.17.1)\n",
      "Requirement already satisfied: anyio in d:\\anaconda3\\envs\\fay312-2\\lib\\site-packages (from httpx<1,>=0.23.0->langsmith) (4.6.2.post1)\n",
      "Requirement already satisfied: certifi in d:\\anaconda3\\envs\\fay312-2\\lib\\site-packages (from httpx<1,>=0.23.0->langsmith) (2024.8.30)\n",
      "Requirement already satisfied: httpcore==1.* in d:\\anaconda3\\envs\\fay312-2\\lib\\site-packages (from httpx<1,>=0.23.0->langsmith) (1.0.6)\n",
      "Requirement already satisfied: idna in d:\\anaconda3\\envs\\fay312-2\\lib\\site-packages (from httpx<1,>=0.23.0->langsmith) (3.10)\n",
      "Requirement already satisfied: sniffio in d:\\anaconda3\\envs\\fay312-2\\lib\\site-packages (from httpx<1,>=0.23.0->langsmith) (1.3.1)\n",
      "Requirement already satisfied: h11<0.15,>=0.13 in d:\\anaconda3\\envs\\fay312-2\\lib\\site-packages (from httpcore==1.*->httpx<1,>=0.23.0->langsmith) (0.14.0)\n",
      "Requirement already satisfied: jsonpatch<2.0,>=1.33 in d:\\anaconda3\\envs\\fay312-2\\lib\\site-packages (from langchain-core<0.4.0,>=0.3.15->langchain) (1.33)\n",
      "Requirement already satisfied: packaging<25,>=23.2 in d:\\anaconda3\\envs\\fay312-2\\lib\\site-packages (from langchain-core<0.4.0,>=0.3.15->langchain) (24.1)\n",
      "Requirement already satisfied: typing-extensions>=4.7 in d:\\anaconda3\\envs\\fay312-2\\lib\\site-packages (from langchain-core<0.4.0,>=0.3.15->langchain) (4.12.2)\n",
      "Requirement already satisfied: msgpack<2.0.0,>=1.1.0 in d:\\anaconda3\\envs\\fay312-2\\lib\\site-packages (from langgraph-checkpoint<3.0.0,>=2.0.4->langgraph) (1.1.0)\n",
      "Requirement already satisfied: httpx-sse>=0.4.0 in d:\\anaconda3\\envs\\fay312-2\\lib\\site-packages (from langgraph-sdk<0.2.0,>=0.1.32->langgraph) (0.4.0)\n",
      "Requirement already satisfied: distro<2,>=1.7.0 in d:\\anaconda3\\envs\\fay312-2\\lib\\site-packages (from openai<2.0.0,>=1.54.0->langchain-openai) (1.9.0)\n",
      "Requirement already satisfied: jiter<1,>=0.4.0 in d:\\anaconda3\\envs\\fay312-2\\lib\\site-packages (from openai<2.0.0,>=1.54.0->langchain-openai) (0.7.0)\n",
      "Requirement already satisfied: tqdm>4 in d:\\anaconda3\\envs\\fay312-2\\lib\\site-packages (from openai<2.0.0,>=1.54.0->langchain-openai) (4.67.0)\n",
      "Requirement already satisfied: annotated-types>=0.6.0 in d:\\anaconda3\\envs\\fay312-2\\lib\\site-packages (from pydantic<3.0.0,>=2.7.4->langchain) (0.7.0)\n",
      "Requirement already satisfied: pydantic-core==2.23.4 in d:\\anaconda3\\envs\\fay312-2\\lib\\site-packages (from pydantic<3.0.0,>=2.7.4->langchain) (2.23.4)\n",
      "Requirement already satisfied: charset-normalizer<4,>=2 in d:\\anaconda3\\envs\\fay312-2\\lib\\site-packages (from requests<3,>=2->langchain) (3.4.0)\n",
      "Requirement already satisfied: urllib3<3,>=1.21.1 in d:\\anaconda3\\envs\\fay312-2\\lib\\site-packages (from requests<3,>=2->langchain) (2.2.3)\n",
      "Requirement already satisfied: greenlet!=0.4.17 in d:\\anaconda3\\envs\\fay312-2\\lib\\site-packages (from SQLAlchemy<3,>=1.4->langchain) (3.1.1)\n",
      "Requirement already satisfied: regex>=2022.1.18 in d:\\anaconda3\\envs\\fay312-2\\lib\\site-packages (from tiktoken<1,>=0.7->langchain-openai) (2024.11.6)\n",
      "Requirement already satisfied: jsonpointer>=1.9 in d:\\anaconda3\\envs\\fay312-2\\lib\\site-packages (from jsonpatch<2.0,>=1.33->langchain-core<0.4.0,>=0.3.15->langchain) (3.0.0)\n",
      "Requirement already satisfied: colorama in d:\\anaconda3\\envs\\fay312-2\\lib\\site-packages (from tqdm>4->openai<2.0.0,>=1.54.0->langchain-openai) (0.4.6)\n",
      "Requirement already satisfied: propcache>=0.2.0 in d:\\anaconda3\\envs\\fay312-2\\lib\\site-packages (from yarl<2.0,>=1.12.0->aiohttp<4.0.0,>=3.8.3->langchain) (0.2.0)\n",
      "Downloading langchain_openai-0.2.8-py3-none-any.whl (50 kB)\n",
      "Downloading langgraph-0.2.50-py3-none-any.whl (124 kB)\n",
      "Downloading langsmith-0.1.143-py3-none-any.whl (306 kB)\n",
      "Downloading langchain_core-0.3.19-py3-none-any.whl (409 kB)\n",
      "Downloading langgraph_checkpoint-2.0.4-py3-none-any.whl (23 kB)\n",
      "Installing collected packages: langsmith, langchain-core, langgraph-checkpoint, langchain-openai, langgraph\n",
      "  Attempting uninstall: langsmith\n",
      "    Found existing installation: langsmith 0.1.142\n",
      "    Uninstalling langsmith-0.1.142:\n",
      "      Successfully uninstalled langsmith-0.1.142\n",
      "  Attempting uninstall: langchain-core\n",
      "    Found existing installation: langchain-core 0.3.15\n",
      "    Uninstalling langchain-core-0.3.15:\n",
      "      Successfully uninstalled langchain-core-0.3.15\n",
      "  Attempting uninstall: langgraph-checkpoint\n",
      "    Found existing installation: langgraph-checkpoint 2.0.2\n",
      "    Uninstalling langgraph-checkpoint-2.0.2:\n",
      "      Successfully uninstalled langgraph-checkpoint-2.0.2\n",
      "  Attempting uninstall: langchain-openai\n",
      "    Found existing installation: langchain-openai 0.2.6\n",
      "    Uninstalling langchain-openai-0.2.6:\n",
      "      Successfully uninstalled langchain-openai-0.2.6\n",
      "  Attempting uninstall: langgraph\n",
      "    Found existing installation: langgraph 0.2.45\n",
      "    Uninstalling langgraph-0.2.45:\n",
      "      Successfully uninstalled langgraph-0.2.45\n",
      "Successfully installed langchain-core-0.3.19 langchain-openai-0.2.8 langgraph-0.2.50 langgraph-checkpoint-2.0.4 langsmith-0.1.143\n"
     ]
    }
   ],
   "source": [
    "!pip install -U langchain langchain-openai langgraph langsmith"
   ]
  },
  {
   "cell_type": "markdown",
   "metadata": {},
   "source": [
    "2、配置环境变量。"
   ]
  },
  {
   "cell_type": "code",
   "execution_count": 1,
   "metadata": {},
   "outputs": [],
   "source": [
    "import os\n",
    "\n",
    "os.environ[\"LANGCHAIN_TRACING_V2\"] = \"true\"\n",
    "os.environ[\"LANGCHAIN_ENDPOINT\"] = \"https://api.smith.langchain.com\"\n",
    "os.environ[\"LANGCHAIN_API_KEY\"] = \"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\"\n",
    "os.environ[\"LANGCHAIN_PROJECT\"] = \"rewoo\"\n",
    "\n",
    "os.environ[\"OPENAI_API_KEY\"] = \n",
    "os.environ[\"OPENAI_API_BASE\"] = "
   ]
  },
  {
   "cell_type": "code",
   "execution_count": null,
   "metadata": {},
   "outputs": [],
   "source": [
    "3、定义llm model。"
   ]
  },
  {
   "cell_type": "code",
   "execution_count": 35,
   "metadata": {},
   "outputs": [
    {
     "data": {
      "text/plain": [
       "'Hello! How can I assist you today?'"
      ]
     },
     "execution_count": 35,
     "metadata": {},
     "output_type": "execute_result"
    }
   ],
   "source": [
    "from langchain_openai import ChatOpenAI\n",
    "llm = ChatOpenAI(model=\"gpt-4\")\n",
    "llm.invoke(\"Hello, world!\").content#test"
   ]
  },
  {
   "cell_type": "code",
   "execution_count": null,
   "metadata": {},
   "outputs": [],
   "source": [
    "4、定义工具。"
   ]
  },
  {
   "cell_type": "code",
   "execution_count": 36,
   "metadata": {},
   "outputs": [
    {
     "name": "stdout",
     "output_type": "stream",
     "text": [
      "现在时间是：23:54 星期二 2024年12月03日\n"
     ]
    }
   ],
   "source": [
    "import abc\n",
    "from typing import Any\n",
    "from datetime import datetime\n",
    "from langchain.tools import BaseTool\n",
    "\n",
    "class QueryTime(BaseTool, abc.ABC):\n",
    "    name: str = \"QueryTime\"\n",
    "    description: str = \"用于查询当前日期、星期几及时间\" \n",
    "\n",
    "    def __init__(self):\n",
    "        super().__init__()\n",
    "\n",
    "    async def _arun(self, *args: Any, **kwargs: Any) -> Any:\n",
    "        # 用例中没有用到 arun，不予具体实现\n",
    "        pass\n",
    "\n",
    "    def _run(self, para) -> str:\n",
    "        # 获取当前时间\n",
    "        now = datetime.now()\n",
    "        # 获取当前日期\n",
    "        today = now.date()\n",
    "        # 获取星期几的信息\n",
    "        week_day = today.strftime(\"%A\")\n",
    "        # 将星期几的英文名称转换为中文\n",
    "        week_day_zh = {\n",
    "            \"Monday\": \"星期一\",\n",
    "            \"Tuesday\": \"星期二\",\n",
    "            \"Wednesday\": \"星期三\",\n",
    "            \"Thursday\": \"星期四\",\n",
    "            \"Friday\": \"星期五\",\n",
    "            \"Saturday\": \"星期六\",\n",
    "            \"Sunday\": \"星期日\",\n",
    "        }.get(week_day, \"未知\")\n",
    "        # 将日期格式化为字符串\n",
    "        date_str = today.strftime(\"%Y年%m月%d日\")\n",
    "        # 将时间格式化为字符串\n",
    "        time_str = now.strftime(\"%H:%M\")\n",
    "\n",
    "        return f\"现在时间是：{time_str} {week_day_zh} {date_str}\"\n",
    "\n",
    "if __name__ == \"__main__\":\n",
    "    tool = QueryTime()\n",
    "    result = tool.run(\"\")\n",
    "    print(result)\n",
    "\n"
   ]
  },
  {
   "cell_type": "code",
   "execution_count": 37,
   "metadata": {},
   "outputs": [
    {
     "name": "stdout",
     "output_type": "stream",
     "text": [
      "天气预报信息：今天天气：clear sky，气温：23.19摄氏度，风速：1.74 m/s。\n"
     ]
    }
   ],
   "source": [
    "from typing import Any\n",
    "\n",
    "import requests\n",
    "from langchain.tools import BaseTool\n",
    "from urllib.parse import quote\n",
    "\n",
    "class Weather(BaseTool):\n",
    "    name: str = \"Weather\"\n",
    "    description: str = \"此工具用于获取天气预报信息，需传入英文的城市名，参数格式：Guangzhou\"\n",
    "\n",
    "    def __init__(self):\n",
    "        super().__init__()\n",
    "\n",
    "    async def _arun(self, *args: Any, **kwargs: Any) -> Any:\n",
    "        # 用例中没有用到 arun 不予具体实现\n",
    "        pass\n",
    "\n",
    "\n",
    "    def _run(self, para: str) -> str:\n",
    "        try:\n",
    "            if not para:\n",
    "                return \"参数不能为空\"\n",
    "            encoded_city = quote(para)\n",
    "\n",
    "            api_url = f\"http://api.openweathermap.org/data/2.5/weather?q={encoded_city}&appid=272fcb70d2c4e6f5134c2dce7d091df6\"\n",
    "            response = requests.get(api_url)\n",
    "            if response.status_code == 200:\n",
    "                weather_data = response.json()\n",
    "              # 提取天气信息\n",
    "                temperature_kelvin = weather_data['main']['temp']\n",
    "                temperature_celsius = temperature_kelvin - 273.15\n",
    "                min_temperature_kelvin = weather_data['main']['temp_min']\n",
    "                max_temperature_kelvin = weather_data['main']['temp_max']\n",
    "                min_temperature_celsius = min_temperature_kelvin - 273.15\n",
    "                max_temperature_celsius = max_temperature_kelvin - 273.15\n",
    "                description = weather_data['weather'][0]['description']\n",
    "                wind_speed = weather_data['wind']['speed']\n",
    "\n",
    "                # 构建天气描述\n",
    "                weather_description = f\"今天天气：{description}，气温：{temperature_celsius:.2f}摄氏度，风速：{wind_speed} m/s。\"\n",
    "\n",
    "                return f\"天气预报信息：{weather_description}\"\n",
    "            else:\n",
    "                return f\"无法获取天气预报信息，状态码：{response.status_code}\"\n",
    "        except Exception as e:\n",
    "            return f\"发生错误：{str(e)}\"\n",
    "\n",
    "\n",
    "if __name__ == \"__main__\":\n",
    "    weather_tool = Weather()\n",
    "    weather_info = weather_tool.run(\"Guangzhou\")\n",
    "    print(weather_info)\n"
   ]
  },
  {
   "cell_type": "code",
   "execution_count": null,
   "metadata": {},
   "outputs": [],
   "source": [
    "quertTime = QueryTime()\n",
    "weather = Weather()\n",
    "tools = [quertTime, weather]\n",
    "toolsStr = \"\"\n",
    "for tool in tools:\n",
    "    toolsStr += f\"{tool.name}[input]:{tool.description}\\n\""
   ]
  },
  {
   "cell_type": "markdown",
   "metadata": {},
   "source": [
    "5、定义状态"
   ]
  },
  {
   "cell_type": "code",
   "execution_count": 38,
   "metadata": {},
   "outputs": [],
   "source": [
    "from typing import List\n",
    "from typing_extensions import TypedDict\n",
    "from langgraph.graph import MessagesState\n",
    "\n",
    "class ReWOO(MessagesState):\n",
    "    task: str\n",
    "    plan_string: str\n",
    "    steps: List\n",
    "    results: dict\n",
    "    result: str\n",
    "    summary: str"
   ]
  },
  {
   "cell_type": "markdown",
   "metadata": {},
   "source": [
    "6、定义Planner 节点"
   ]
  },
  {
   "cell_type": "code",
   "execution_count": 40,
   "metadata": {},
   "outputs": [],
   "source": [
    "prompt = \"\"\"For the following task, make plans that can solve the problem step by step. For each plan, indicate \\\n",
    "which external tool together with tool input to retrieve evidence. You can store the evidence into a \\\n",
    "variable #E that can be called by later tools. (Plan, #E1, Plan, #E2, Plan, ...)\n",
    "\n",
    "Tools can be one of the following:\n",
    "(1) LLM[input]: A pretrained LLM like yourself. Useful when you need to act with general\n",
    "world knowledge and common sense. Prioritize it when you are confident in solving the problem\n",
    "yourself. Input can be any instruction.\n",
    "{tools}\n",
    "\n",
    "For example,\n",
    "Task: Thomas, Toby, and Rebecca worked a total of 157 hours in one week. Thomas worked x\n",
    "hours. Toby worked 10 hours less than twice what Thomas worked, and Rebecca worked 8 hours\n",
    "less than Toby. How many hours did Rebecca work?\n",
    "Plan: Given Thomas worked x hours, translate the problem into algebraic expressions and solve\n",
    "with Wolfram Alpha. #E1 = WolframAlpha[Solve x + (2x − 10) + ((2x − 10) − 8) = 157]\n",
    "Plan: Find out the number of hours Thomas worked. #E2 = LLM[What is x, given #E1]\n",
    "Plan: Calculate the number of hours Rebecca worked. #E3 = Calculator[(2 ∗ #E2 − 10) − 8]\n",
    "\n",
    "Begin! \n",
    "Describe your plans with rich details. Each Plan should be followed by only one #E.\n",
    "\n",
    "Task: {task}\"\"\""
   ]
  },
  {
   "cell_type": "code",
   "execution_count": 41,
   "metadata": {},
   "outputs": [],
   "source": [
    "import re\n",
    "from langchain_core.messages import HumanMessage, SystemMessage\n",
    "from langchain_core.prompts import ChatPromptTemplate\n",
    "\n",
    "\n",
    "def get_plan(state: ReWOO):\n",
    "    regex_pattern = r\"Plan:\\s*(.+)\\s*(#E\\d+)\\s*=\\s*(\\w+)\\s*\\[([^\\]]+)\\]\"\n",
    "    prompt_template = ChatPromptTemplate.from_messages([SystemMessage(\"你的名字叫张三，18岁。\"), HumanMessage(content=prompt, name=\"User\")])#TODO 这里补充历史消息记录及总结\n",
    "    planner = prompt_template | llm\n",
    "    task = state[\"task\"]\n",
    "    result = planner.invoke({\"task\": task, \"tools\" : toolsStr})\n",
    "    # Find all matches in the sample text\n",
    "    matches = re.findall(regex_pattern, result.content)\n",
    "    return {\"steps\": matches, \"plan_string\": result.content}"
   ]
  },
  {
   "cell_type": "markdown",
   "metadata": {},
   "source": [
    "7、定义工具执行节点"
   ]
  },
  {
   "cell_type": "code",
   "execution_count": 42,
   "metadata": {},
   "outputs": [],
   "source": [
    "def _get_current_task(state: ReWOO):\n",
    "    if \"results\" not in state or state[\"results\"] is None:\n",
    "        return 1\n",
    "    if len(state[\"results\"]) == len(state[\"steps\"]):\n",
    "        return None\n",
    "    else:\n",
    "        return len(state[\"results\"]) + 1\n",
    "\n",
    "\n",
    "def tool_execution(state: ReWOO):\n",
    "    \"\"\"Worker node that executes the tools of a given plan.\"\"\"\n",
    "    _step = _get_current_task(state)\n",
    "    _, step_name, tool, tool_input = state[\"steps\"][_step - 1]\n",
    "    _results = (state[\"results\"] or {}) if \"results\" in state else {}\n",
    "    for k, v in _results.items():\n",
    "        tool_input = tool_input.replace(k, v)\n",
    "    if tool == \"QueryTime\":\n",
    "        result = quertTime.invoke(tool_input)\n",
    "    elif tool == \"Weather\":\n",
    "        result = weather.invoke(tool_input)\n",
    "    elif tool == \"LLM\":\n",
    "        result = llm.invoke(tool_input)\n",
    "    else:\n",
    "        raise ValueError\n",
    "    _results[step_name] = str(result)\n",
    "    return {\"results\": _results}"
   ]
  },
  {
   "cell_type": "markdown",
   "metadata": {},
   "source": [
    "8、定义求解节点"
   ]
  },
  {
   "cell_type": "code",
   "execution_count": 43,
   "metadata": {},
   "outputs": [],
   "source": [
    "solve_prompt = \"\"\"Solve the following task or problem. To solve the problem, we have made step-by-step Plan and \\\n",
    "retrieved corresponding Evidence to each Plan. Use them with caution since long evidence might \\\n",
    "contain irrelevant information.\n",
    "\n",
    "{plan}\n",
    "\n",
    "Now solve the question or task according to provided Evidence above. Respond with the answer\n",
    "directly with no extra words.\n",
    "\n",
    "Task: {task}\n",
    "Response:\"\"\"\n",
    "\n",
    "\n",
    "def solve(state: ReWOO):\n",
    "    plan = \"\"\n",
    "    for _plan, step_name, tool, tool_input in state[\"steps\"]:\n",
    "        _results = (state[\"results\"] or {}) if \"results\" in state else {}\n",
    "        for k, v in _results.items():\n",
    "            tool_input = tool_input.replace(k, v)\n",
    "            step_name = step_name.replace(k, v)\n",
    "        plan += f\"Plan: {_plan}\\n{step_name} = {tool}[{tool_input}]\"\n",
    "    prompt = solve_prompt.format(plan=plan, task=state[\"task\"])\n",
    "    result = llm.invoke(prompt)\n",
    "    return {\"result\": result.content, \"results\" : None}"
   ]
  },
  {
   "cell_type": "markdown",
   "metadata": {},
   "source": [
    "9、定义图形"
   ]
  },
  {
   "cell_type": "code",
   "execution_count": 44,
   "metadata": {},
   "outputs": [],
   "source": [
    "from langgraph.checkpoint.memory import MemorySaver\n",
    "def _route(state):\n",
    "    _step = _get_current_task(state)\n",
    "    if _step is None:\n",
    "        # We have executed all tasks\n",
    "        return \"solve\"\n",
    "    else:\n",
    "        # We are still executing tasks, loop back to the \"tool\" node\n",
    "        return \"tool\"\n",
    "\n",
    "from langgraph.graph import END, StateGraph, START\n",
    "\n",
    "graph = StateGraph(ReWOO)\n",
    "graph.add_node(\"plan\", get_plan)\n",
    "graph.add_node(\"tool\", tool_execution)\n",
    "graph.add_node(\"solve\", solve)\n",
    "graph.add_edge(\"plan\", \"tool\")\n",
    "graph.add_edge(\"solve\", END)\n",
    "graph.add_conditional_edges(\"tool\", _route)\n",
    "graph.add_edge(START, \"plan\")\n",
    "memory = MemorySaver()\n",
    "app = graph.compile(checkpointer=memory)"
   ]
  },
  {
   "cell_type": "markdown",
   "metadata": {},
   "source": [
    "10、执行"
   ]
  },
  {
   "cell_type": "code",
   "execution_count": 47,
   "metadata": {},
   "outputs": [
    {
     "data": {
      "text/plain": [
       "{'messages': [],\n",
       " 'task': '哈哈',\n",
       " 'plan_string': \"Task: A company is planning to launch a new product and wants to analyze the sentiment of potential customers on social media platforms to gauge possible reception. They need to collect, process, and analyze relevant data to make informed decisions.\\n\\nPlan: Identify the social media platforms that are most relevant for the target audience of the new product. #E1 = LLM[List the most popular social media platforms for demographic X]\\n\\nPlan: Design a data collection strategy to scrape or extract posts, comments, and reactions related to keywords associated with the new product. #E2 = LLM[Design a data collection strategy for extracting information from platforms identified in #E1 using keywords 'new product']\\n\\nPlan: Use a sentiment analysis tool to process the collected data to determine the overall sentiment (positive, negative, neutral) expressed by the users. #E3 = LLM[Recommend a sentiment analysis tool and explain how to apply it to the data collected in #E2]\\n\\nPlan: Analyze the sentiment data to identify key themes or issues that are frequently mentioned in relation to the new product. #E4 = LLM[How to analyze sentiment data to find common themes or issues]\\n\\nPlan: Summarize the findings and prepare a detailed report that includes data visualizations to present to the company's decision-makers. #E5 = LLM[Guide on how to summarize sentiment analysis findings and prepare a report with data visualizations]\",\n",
       " 'steps': [('Identify the social media platforms that are most relevant for the target audience of the new product. ',\n",
       "   '#E1',\n",
       "   'LLM',\n",
       "   'List the most popular social media platforms for demographic X'),\n",
       "  ('Design a data collection strategy to scrape or extract posts, comments, and reactions related to keywords associated with the new product. ',\n",
       "   '#E2',\n",
       "   'LLM',\n",
       "   \"Design a data collection strategy for extracting information from platforms identified in #E1 using keywords 'new product'\"),\n",
       "  ('Use a sentiment analysis tool to process the collected data to determine the overall sentiment (positive, negative, neutral) expressed by the users. ',\n",
       "   '#E3',\n",
       "   'LLM',\n",
       "   'Recommend a sentiment analysis tool and explain how to apply it to the data collected in #E2'),\n",
       "  ('Analyze the sentiment data to identify key themes or issues that are frequently mentioned in relation to the new product. ',\n",
       "   '#E4',\n",
       "   'LLM',\n",
       "   'How to analyze sentiment data to find common themes or issues'),\n",
       "  (\"Summarize the findings and prepare a detailed report that includes data visualizations to present to the company's decision-makers. \",\n",
       "   '#E5',\n",
       "   'LLM',\n",
       "   'Guide on how to summarize sentiment analysis findings and prepare a report with data visualizations')],\n",
       " 'results': None,\n",
       " 'result': \"Sorry, I can't assist with that.\"}"
      ]
     },
     "execution_count": 47,
     "metadata": {},
     "output_type": "execute_result"
    }
   ],
   "source": [
    "config = {\"configurable\": {\"thread_id\": \"1\"}}\n",
    "app.invoke({\"task\": \"哈哈\"}, config=config)"
   ]
  },
  {
   "cell_type": "code",
   "execution_count": 24,
   "metadata": {},
   "outputs": [
    {
     "data": {
      "text/plain": [
       "{'messages': [],\n",
       " 'task': '今天天气怎么样',\n",
       " 'plan_string': 'Task: Calculate the volume of a cylinder given its height is 10 cm and its radius is 5 cm.\\n\\nPlan: Identify the formula for calculating the volume of a cylinder.\\n#E1 = LLM[What is the formula for calculating the volume of a cylinder?]\\n\\nPlan: Apply the given values (height = 10 cm and radius = 5 cm) to the formula to calculate the volume.\\n#E2 = LLM[Using the formula V = πr^2h, where r is the radius and h is the height, calculate the volume of the cylinder with r = 5 cm and h = 10 cm.]\\n\\nPlan: Convert the calculated volume into the appropriate unit and confirm the final answer.\\n#E3 = LLM[Convert the volume calculated in #E2 into cubic centimeters if not already and confirm the final volume of the cylinder.]',\n",
       " 'steps': [['Identify the formula for calculating the volume of a cylinder.',\n",
       "   '#E1',\n",
       "   'LLM',\n",
       "   'What is the formula for calculating the volume of a cylinder?'],\n",
       "  ['Apply the given values (height = 10 cm and radius = 5 cm) to the formula to calculate the volume.',\n",
       "   '#E2',\n",
       "   'LLM',\n",
       "   'Using the formula V = πr^2h, where r is the radius and h is the height, calculate the volume of the cylinder with r = 5 cm and h = 10 cm.'],\n",
       "  ['Convert the calculated volume into the appropriate unit and confirm the final answer.',\n",
       "   '#E3',\n",
       "   'LLM',\n",
       "   'Convert the volume calculated in #E2 into cubic centimeters if not already and confirm the final volume of the cylinder.']],\n",
       " 'results': {'#E1': \"content='The formula for calculating the volume of a cylinder is:\\\\n\\\\n\\\\\\\\[ V = \\\\\\\\pi r^2 h \\\\\\\\]\\\\n\\\\nwhere \\\\\\\\( V \\\\\\\\) is the volume, \\\\\\\\( r \\\\\\\\) is the radius of the circular base, \\\\\\\\( h \\\\\\\\) is the height of the cylinder, and \\\\\\\\( \\\\\\\\pi \\\\\\\\) (pi) is approximately 3.14159.' additional_kwargs={'refusal': None} response_metadata={'token_usage': {'completion_tokens': 71, 'prompt_tokens': 19, 'total_tokens': 90, 'completion_tokens_details': {'accepted_prediction_tokens': None, 'audio_tokens': None, 'reasoning_tokens': None, 'rejected_prediction_tokens': None}, 'prompt_tokens_details': {'audio_tokens': None, 'cached_tokens': None}}, 'model_name': 'gpt-4o', 'system_fingerprint': 'fp_04751d0b65', 'finish_reason': 'stop', 'logprobs': None} id='run-b41f8f2f-b030-42b2-9a25-4fedc469ab06-0' usage_metadata={'input_tokens': 19, 'output_tokens': 71, 'total_tokens': 90, 'input_token_details': {}, 'output_token_details': {}}\",\n",
       "  '#E2': \"content='To calculate the volume of the cylinder using the formula \\\\\\\\( V = \\\\\\\\pi r^2 h \\\\\\\\), where \\\\\\\\( r \\\\\\\\) is the radius and \\\\\\\\( h \\\\\\\\) is the height, we can substitute the given values into the formula:\\\\n\\\\nGiven:\\\\n- \\\\\\\\( r = 5 \\\\\\\\) cm\\\\n- \\\\\\\\( h = 10 \\\\\\\\) cm\\\\n\\\\nSubstitute these values into the formula:\\\\n\\\\n\\\\\\\\[\\\\nV = \\\\\\\\pi \\\\\\\\times (5 \\\\\\\\text{ cm})^2 \\\\\\\\times 10 \\\\\\\\text{ cm}\\\\n\\\\\\\\]\\\\n\\\\nCalculate \\\\\\\\( (5 \\\\\\\\text{ cm})^2 \\\\\\\\):\\\\n\\\\n\\\\\\\\[\\\\n(5 \\\\\\\\text{ cm})^2 = 25 \\\\\\\\text{ cm}^2\\\\n\\\\\\\\]\\\\n\\\\nNow substitute back into the formula:\\\\n\\\\n\\\\\\\\[\\\\nV = \\\\\\\\pi \\\\\\\\times 25 \\\\\\\\text{ cm}^2 \\\\\\\\times 10 \\\\\\\\text{ cm}\\\\n\\\\\\\\]\\\\n\\\\n\\\\\\\\[\\\\nV = \\\\\\\\pi \\\\\\\\times 250 \\\\\\\\text{ cm}^3\\\\n\\\\\\\\]\\\\n\\\\nUsing the approximation \\\\\\\\( \\\\\\\\pi \\\\\\\\approx 3.14159 \\\\\\\\):\\\\n\\\\n\\\\\\\\[\\\\nV \\\\\\\\approx 3.14159 \\\\\\\\times 250 \\\\\\\\text{ cm}^3\\\\n\\\\\\\\]\\\\n\\\\n\\\\\\\\[\\\\nV \\\\\\\\approx 785.3975 \\\\\\\\text{ cm}^3\\\\n\\\\\\\\]\\\\n\\\\nTherefore, the volume of the cylinder is approximately \\\\\\\\( 785.40 \\\\\\\\text{ cm}^3 \\\\\\\\).' additional_kwargs={'refusal': None} response_metadata={'token_usage': {'completion_tokens': 280, 'prompt_tokens': 48, 'total_tokens': 328, 'completion_tokens_details': {'accepted_prediction_tokens': None, 'audio_tokens': None, 'reasoning_tokens': None, 'rejected_prediction_tokens': None}, 'prompt_tokens_details': {'audio_tokens': None, 'cached_tokens': None}}, 'model_name': 'gpt-4o', 'system_fingerprint': 'fp_04751d0b65', 'finish_reason': 'stop', 'logprobs': None} id='run-6885084e-c251-4368-956a-29321f9c1169-0' usage_metadata={'input_tokens': 48, 'output_tokens': 280, 'total_tokens': 328, 'input_token_details': {}, 'output_token_details': {}}\",\n",
       "  '#E3': \"content='The volume of the cylinder has already been calculated in cubic centimeters. The volume was found using the formula:\\\\n\\\\n\\\\\\\\[ V = \\\\\\\\pi r^2 h \\\\\\\\]\\\\n\\\\nWith the given values:\\\\n- \\\\\\\\( r = 5 \\\\\\\\) cm\\\\n- \\\\\\\\( h = 10 \\\\\\\\) cm\\\\n\\\\nThe calculation was done as follows:\\\\n\\\\n1. Calculate \\\\\\\\( (5 \\\\\\\\text{ cm})^2 \\\\\\\\):\\\\n   \\\\\\\\[ (5 \\\\\\\\text{ cm})^2 = 25 \\\\\\\\text{ cm}^2 \\\\\\\\]\\\\n\\\\n2. Substitute into the formula:\\\\n   \\\\\\\\[ V = \\\\\\\\pi \\\\\\\\times 25 \\\\\\\\text{ cm}^2 \\\\\\\\times 10 \\\\\\\\text{ cm} \\\\\\\\]\\\\n\\\\n3. Simplify further:\\\\n   \\\\\\\\[ V = \\\\\\\\pi \\\\\\\\times 250 \\\\\\\\text{ cm}^3 \\\\\\\\]\\\\n\\\\n4. Use the approximation \\\\\\\\( \\\\\\\\pi \\\\\\\\approx 3.14159 \\\\\\\\):\\\\n   \\\\\\\\[ V \\\\\\\\approx 3.14159 \\\\\\\\times 250 \\\\\\\\text{ cm}^3 \\\\\\\\]\\\\n\\\\n5. Calculate the approximate volume:\\\\n   \\\\\\\\[ V \\\\\\\\approx 785.3975 \\\\\\\\text{ cm}^3 \\\\\\\\]\\\\n\\\\nRounding to two decimal places, the volume of the cylinder is approximately \\\\\\\\( 785.40 \\\\\\\\text{ cm}^3 \\\\\\\\).\\\\n\\\\nTherefore, the final volume of the cylinder is indeed \\\\\\\\( 785.40 \\\\\\\\text{ cm}^3 \\\\\\\\), and it is already expressed in cubic centimeters.' additional_kwargs={'refusal': None} response_metadata={'token_usage': {'completion_tokens': 294, 'prompt_tokens': 539, 'total_tokens': 833, 'completion_tokens_details': {'accepted_prediction_tokens': None, 'audio_tokens': None, 'reasoning_tokens': None, 'rejected_prediction_tokens': None}, 'prompt_tokens_details': {'audio_tokens': None, 'cached_tokens': None}}, 'model_name': 'gpt-4o', 'system_fingerprint': 'fp_04751d0b65', 'finish_reason': 'stop', 'logprobs': None} id='run-73de4bfa-4f7b-40e5-9678-cbfdb1d6a0fb-0' usage_metadata={'input_tokens': 539, 'output_tokens': 294, 'total_tokens': 833, 'input_token_details': {}, 'output_token_details': {}}\"},\n",
       " 'result': '抱歉，我无法提供当前的天气信息。建议您查阅当地的天气预报或使用天气应用来获取最新信息。'}"
      ]
     },
     "execution_count": 24,
     "metadata": {},
     "output_type": "execute_result"
    }
   ],
   "source": [
    "app.get_state(config).values"
   ]
  },
  {
   "cell_type": "markdown",
   "metadata": {},
   "source": [
    "11、查看agent graph。"
   ]
  },
  {
   "cell_type": "code",
   "execution_count": null,
   "metadata": {},
   "outputs": [],
   "source": []
  },
  {
   "cell_type": "code",
   "execution_count": 25,
   "metadata": {},
   "outputs": [
    {
     "data": {
      "image/png": "[encoded data removed]",
      "text/plain": [
       "<IPython.core.display.Image object>"
      ]
     },
     "metadata": {},
     "output_type": "display_data"
    }
   ],
   "source": [
    "from IPython.display import Image, display\n",
    "\n",
    "try:\n",
    "    display(Image(app.get_graph().draw_mermaid_png()))\n",
    "except Exception:\n",
    "    # This requires some extra dependencies and is optional\n",
    "    pass"
   ]
  }
 ],
 "metadata": {
  "kernelspec": {
   "display_name": "fay312-2",
   "language": "python",
   "name": "python3"
  },
  "language_info": {
   "codemirror_mode": {
    "name": "ipython",
    "version": 3
   },
   "file_extension": ".py",
   "mimetype": "text/x-python",
   "name": "python",
   "nbconvert_exporter": "python",
   "pygments_lexer": "ipython3",
   "version": "3.12.7"
  }
 },
 "nbformat": 4,
 "nbformat_minor": 2
}
